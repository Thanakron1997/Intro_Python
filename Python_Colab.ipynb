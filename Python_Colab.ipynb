from google.colab import drive
drive.mount('/content/drive') //สำหรับดึงข้อมูลจาก Drive

import pandas as pd
url = 'Your_Path_File'

df = pd.read_csv(url)
df.head()
