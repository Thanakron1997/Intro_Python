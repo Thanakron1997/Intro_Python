from google.colab import drive
drive.mount('/content/drive') //สำหรับดึงข้อมูลจาก Drive
